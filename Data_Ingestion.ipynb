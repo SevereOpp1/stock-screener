{
  "nbformat": 4,
  "nbformat_minor": 0,
  "metadata": {
    "colab": {
      "provenance": [],
      "authorship_tag": "ABX9TyPnjsQp/pRbL3lT6tp1LdYY"
    },
    "kernelspec": {
      "name": "python3",
      "display_name": "Python 3"
    },
    "language_info": {
      "name": "python"
    }
  },
  "cells": [
    {
      "cell_type": "code",
      "execution_count": 1,
      "metadata": {
        "id": "Jw0bKgnXr5tq"
      },
      "outputs": [],
      "source": [
        "import pandas as pd\n",
        "import numpy as np\n",
        "pd.set_option('display.max_columns', None)\n",
        "import os\n",
        "import yfinance as yf\n"
      ]
    },
    {
      "cell_type": "code",
      "source": [
        "#We focus on a specific sector to analayze price movements: tech stocks with mcap > 10bn\n",
        "companies = pd.read_csv('tickers.csv')\n",
        "techComps = companies[(companies['Sector'] == 'Technology') & (companies['Market Cap'] > 10000000000)]['Symbol']"
      ],
      "metadata": {
        "id": "eLZf-SlltC3M"
      },
      "execution_count": 3,
      "outputs": []
    },
    {
      "cell_type": "code",
      "source": [
        "look_back = 5\n",
        "period = '5y'\n",
        "#Ingest Data\n",
        "all_data = pd.DataFrame()\n",
        "for symbol in techComps:\n",
        "    try:\n",
        "          stock_data = yf.download(symbol, period=period)\n",
        "          stock_data.columns = stock_data.columns.droplevel(1)\n",
        "          stock_data.columns.name = None\n",
        "          stock_data['Ticker'] = symbol\n",
        "          prices = stock_data\n",
        "          prices['Date'] = prices.index\n",
        "          print(f\"Downloaded data for {symbol}\")\n",
        "\n",
        "          prices = prices.dropna()\n",
        "\n",
        "          #Cast numeric data to type float\n",
        "          prices[['Open', 'High', 'Low', 'Close']] = prices[['Open', 'High', 'Low', 'Close']].astype(float)\n",
        "          prices['Volume'] = prices['Volume'].astype(int)\n",
        "\n",
        "          #Create percentage change column for each col to normalize data.\n",
        "          prices[['Open_pc', 'High_pc', 'Low_pc', 'Close_pc', 'Volume_pc']] = prices[['Open', 'High', 'Low', 'Close', 'Volume']].pct_change()\n",
        "\n",
        "          #Take the previous 30 days of price data (only for close for this paper)\n",
        "          for num in range(0,look_back):\n",
        "            col_name = 'Close_pc' + '_' + str(num)\n",
        "            prices[col_name] = prices['Close_pc'].shift(num+1)\n",
        "\n",
        "\n",
        "          #Keep prices on date, movement class, previous -lookback period- days\n",
        "          cols_to_keep = []\n",
        "          cols_to_keep = ['Date'] + [col for col in prices.columns if 'Close_pc' in col]\n",
        "          prices_pattern = prices[cols_to_keep]\n",
        "          all_data = pd.concat([all_data, prices_pattern], ignore_index=True)\n",
        "    except Exception as e:\n",
        "      print(f\"Failed to download data for {symbol}: {e}\")\n",
        "\n",
        "all_data = all_data.dropna()\n",
        "#Expand this to multiple day compound movements in future\n",
        "all_data['Movement_Class'] = np.where(all_data['Close_pc']>0, 'Positive', 'Negative')\n",
        "print(len(all_data))\n",
        "print(all_data.head(10))"
      ],
      "metadata": {
        "colab": {
          "base_uri": "https://localhost:8080/"
        },
        "id": "JxtjIUa4vdKE",
        "outputId": "f538bf8c-885e-4b44-afa4-b6bbf27f6915"
      },
      "execution_count": 4,
      "outputs": [
        {
          "output_type": "stream",
          "name": "stderr",
          "text": [
            "/tmp/ipython-input-632925566.py:7: FutureWarning: YF.download() has changed argument auto_adjust default to True\n",
            "  stock_data = yf.download(symbol, period=period)\n",
            "[*********************100%***********************]  1 of 1 completed\n",
            "/tmp/ipython-input-632925566.py:7: FutureWarning: YF.download() has changed argument auto_adjust default to True\n",
            "  stock_data = yf.download(symbol, period=period)\n",
            "[*********************100%***********************]  1 of 1 completed\n"
          ]
        },
        {
          "output_type": "stream",
          "name": "stdout",
          "text": [
            "Downloaded data for AAPL\n",
            "Downloaded data for ADBE\n"
          ]
        },
        {
          "output_type": "stream",
          "name": "stderr",
          "text": [
            "/tmp/ipython-input-632925566.py:7: FutureWarning: YF.download() has changed argument auto_adjust default to True\n",
            "  stock_data = yf.download(symbol, period=period)\n",
            "[*********************100%***********************]  1 of 1 completed\n",
            "/tmp/ipython-input-632925566.py:7: FutureWarning: YF.download() has changed argument auto_adjust default to True\n",
            "  stock_data = yf.download(symbol, period=period)\n"
          ]
        },
        {
          "output_type": "stream",
          "name": "stdout",
          "text": [
            "Downloaded data for ADI\n"
          ]
        },
        {
          "output_type": "stream",
          "name": "stderr",
          "text": [
            "\r[*********************100%***********************]  1 of 1 completed\n",
            "/tmp/ipython-input-632925566.py:7: FutureWarning: YF.download() has changed argument auto_adjust default to True\n",
            "  stock_data = yf.download(symbol, period=period)\n"
          ]
        },
        {
          "output_type": "stream",
          "name": "stdout",
          "text": [
            "Downloaded data for ADP\n"
          ]
        },
        {
          "output_type": "stream",
          "name": "stderr",
          "text": [
            "\r[*********************100%***********************]  1 of 1 completed\n",
            "/tmp/ipython-input-632925566.py:7: FutureWarning: YF.download() has changed argument auto_adjust default to True\n",
            "  stock_data = yf.download(symbol, period=period)\n"
          ]
        },
        {
          "output_type": "stream",
          "name": "stdout",
          "text": [
            "Downloaded data for ADSK\n"
          ]
        },
        {
          "output_type": "stream",
          "name": "stderr",
          "text": [
            "\r[*********************100%***********************]  1 of 1 completed\n",
            "/tmp/ipython-input-632925566.py:7: FutureWarning: YF.download() has changed argument auto_adjust default to True\n",
            "  stock_data = yf.download(symbol, period=period)\n"
          ]
        },
        {
          "output_type": "stream",
          "name": "stdout",
          "text": [
            "Downloaded data for ALAB\n"
          ]
        },
        {
          "output_type": "stream",
          "name": "stderr",
          "text": [
            "\r[*********************100%***********************]  1 of 1 completed\n",
            "/tmp/ipython-input-632925566.py:7: FutureWarning: YF.download() has changed argument auto_adjust default to True\n",
            "  stock_data = yf.download(symbol, period=period)\n"
          ]
        },
        {
          "output_type": "stream",
          "name": "stdout",
          "text": [
            "Downloaded data for AMAT\n"
          ]
        },
        {
          "output_type": "stream",
          "name": "stderr",
          "text": [
            "\r[*********************100%***********************]  1 of 1 completed\n",
            "/tmp/ipython-input-632925566.py:7: FutureWarning: YF.download() has changed argument auto_adjust default to True\n",
            "  stock_data = yf.download(symbol, period=period)\n"
          ]
        },
        {
          "output_type": "stream",
          "name": "stdout",
          "text": [
            "Downloaded data for AMD\n"
          ]
        },
        {
          "output_type": "stream",
          "name": "stderr",
          "text": [
            "\r[*********************100%***********************]  1 of 1 completed\n",
            "/tmp/ipython-input-632925566.py:7: FutureWarning: YF.download() has changed argument auto_adjust default to True\n",
            "  stock_data = yf.download(symbol, period=period)\n"
          ]
        },
        {
          "output_type": "stream",
          "name": "stdout",
          "text": [
            "Downloaded data for ANSS\n"
          ]
        },
        {
          "output_type": "stream",
          "name": "stderr",
          "text": [
            "\r[*********************100%***********************]  1 of 1 completed\n",
            "/tmp/ipython-input-632925566.py:7: FutureWarning: YF.download() has changed argument auto_adjust default to True\n",
            "  stock_data = yf.download(symbol, period=period)\n"
          ]
        },
        {
          "output_type": "stream",
          "name": "stdout",
          "text": [
            "Downloaded data for APH\n"
          ]
        },
        {
          "output_type": "stream",
          "name": "stderr",
          "text": [
            "\r[*********************100%***********************]  1 of 1 completed\n",
            "/tmp/ipython-input-632925566.py:7: FutureWarning: YF.download() has changed argument auto_adjust default to True\n",
            "  stock_data = yf.download(symbol, period=period)\n"
          ]
        },
        {
          "output_type": "stream",
          "name": "stdout",
          "text": [
            "Downloaded data for APP\n"
          ]
        },
        {
          "output_type": "stream",
          "name": "stderr",
          "text": [
            "\r[*********************100%***********************]  1 of 1 completed\n",
            "/tmp/ipython-input-632925566.py:7: FutureWarning: YF.download() has changed argument auto_adjust default to True\n",
            "  stock_data = yf.download(symbol, period=period)\n"
          ]
        },
        {
          "output_type": "stream",
          "name": "stdout",
          "text": [
            "Downloaded data for ARM\n"
          ]
        },
        {
          "output_type": "stream",
          "name": "stderr",
          "text": [
            "\r[*********************100%***********************]  1 of 1 completed\n",
            "/tmp/ipython-input-632925566.py:7: FutureWarning: YF.download() has changed argument auto_adjust default to True\n",
            "  stock_data = yf.download(symbol, period=period)\n"
          ]
        },
        {
          "output_type": "stream",
          "name": "stdout",
          "text": [
            "Downloaded data for ASML\n"
          ]
        },
        {
          "output_type": "stream",
          "name": "stderr",
          "text": [
            "\r[*********************100%***********************]  1 of 1 completed\n",
            "/tmp/ipython-input-632925566.py:7: FutureWarning: YF.download() has changed argument auto_adjust default to True\n",
            "  stock_data = yf.download(symbol, period=period)\n",
            "[*********************100%***********************]  1 of 1 completed"
          ]
        },
        {
          "output_type": "stream",
          "name": "stdout",
          "text": [
            "Downloaded data for ASX\n"
          ]
        },
        {
          "output_type": "stream",
          "name": "stderr",
          "text": [
            "\n",
            "/tmp/ipython-input-632925566.py:7: FutureWarning: YF.download() has changed argument auto_adjust default to True\n",
            "  stock_data = yf.download(symbol, period=period)\n"
          ]
        },
        {
          "output_type": "stream",
          "name": "stdout",
          "text": [
            "Downloaded data for AUR\n"
          ]
        },
        {
          "output_type": "stream",
          "name": "stderr",
          "text": [
            "[*********************100%***********************]  1 of 1 completed\n",
            "/tmp/ipython-input-632925566.py:7: FutureWarning: YF.download() has changed argument auto_adjust default to True\n",
            "  stock_data = yf.download(symbol, period=period)\n",
            "[*********************100%***********************]  1 of 1 completed\n",
            "/tmp/ipython-input-632925566.py:7: FutureWarning: YF.download() has changed argument auto_adjust default to True\n",
            "  stock_data = yf.download(symbol, period=period)\n"
          ]
        },
        {
          "output_type": "stream",
          "name": "stdout",
          "text": [
            "Downloaded data for AVGO\n",
            "Downloaded data for BIDU\n"
          ]
        },
        {
          "output_type": "stream",
          "name": "stderr",
          "text": [
            "\r[*********************100%***********************]  1 of 1 completed\n",
            "/tmp/ipython-input-632925566.py:7: FutureWarning: YF.download() has changed argument auto_adjust default to True\n",
            "  stock_data = yf.download(symbol, period=period)\n",
            "[*********************100%***********************]  1 of 1 completed\n"
          ]
        },
        {
          "output_type": "stream",
          "name": "stdout",
          "text": [
            "Downloaded data for BSY\n",
            "Downloaded data for CACI\n"
          ]
        },
        {
          "output_type": "stream",
          "name": "stderr",
          "text": [
            "/tmp/ipython-input-632925566.py:7: FutureWarning: YF.download() has changed argument auto_adjust default to True\n",
            "  stock_data = yf.download(symbol, period=period)\n",
            "[*********************100%***********************]  1 of 1 completed\n",
            "/tmp/ipython-input-632925566.py:7: FutureWarning: YF.download() has changed argument auto_adjust default to True\n",
            "  stock_data = yf.download(symbol, period=period)\n"
          ]
        },
        {
          "output_type": "stream",
          "name": "stdout",
          "text": [
            "Downloaded data for CDNS\n"
          ]
        },
        {
          "output_type": "stream",
          "name": "stderr",
          "text": [
            "[*********************100%***********************]  1 of 1 completed\n",
            "/tmp/ipython-input-632925566.py:7: FutureWarning: YF.download() has changed argument auto_adjust default to True\n",
            "  stock_data = yf.download(symbol, period=period)\n",
            "[*********************100%***********************]  1 of 1 completed\n",
            "/tmp/ipython-input-632925566.py:7: FutureWarning: YF.download() has changed argument auto_adjust default to True\n",
            "  stock_data = yf.download(symbol, period=period)\n"
          ]
        },
        {
          "output_type": "stream",
          "name": "stdout",
          "text": [
            "Downloaded data for CHKP\n",
            "Downloaded data for CLS\n"
          ]
        },
        {
          "output_type": "stream",
          "name": "stderr",
          "text": [
            "[*********************100%***********************]  1 of 1 completed\n",
            "/tmp/ipython-input-632925566.py:7: FutureWarning: YF.download() has changed argument auto_adjust default to True\n",
            "  stock_data = yf.download(symbol, period=period)\n",
            "[*********************100%***********************]  1 of 1 completed\n",
            "/tmp/ipython-input-632925566.py:7: FutureWarning: YF.download() has changed argument auto_adjust default to True\n",
            "  stock_data = yf.download(symbol, period=period)\n"
          ]
        },
        {
          "output_type": "stream",
          "name": "stdout",
          "text": [
            "Downloaded data for CRM\n",
            "Downloaded data for CRWD\n"
          ]
        },
        {
          "output_type": "stream",
          "name": "stderr",
          "text": [
            "\r[*********************100%***********************]  1 of 1 completed\n",
            "/tmp/ipython-input-632925566.py:7: FutureWarning: YF.download() has changed argument auto_adjust default to True\n",
            "  stock_data = yf.download(symbol, period=period)\n"
          ]
        },
        {
          "output_type": "stream",
          "name": "stdout",
          "text": [
            "Downloaded data for CRWV\n"
          ]
        },
        {
          "output_type": "stream",
          "name": "stderr",
          "text": [
            "\r[*********************100%***********************]  1 of 1 completed\n",
            "/tmp/ipython-input-632925566.py:7: FutureWarning: YF.download() has changed argument auto_adjust default to True\n",
            "  stock_data = yf.download(symbol, period=period)\n"
          ]
        },
        {
          "output_type": "stream",
          "name": "stdout",
          "text": [
            "Downloaded data for CTSH\n"
          ]
        },
        {
          "output_type": "stream",
          "name": "stderr",
          "text": [
            "[*********************100%***********************]  1 of 1 completed\n",
            "/tmp/ipython-input-632925566.py:7: FutureWarning: YF.download() has changed argument auto_adjust default to True\n",
            "  stock_data = yf.download(symbol, period=period)\n",
            "[*********************100%***********************]  1 of 1 completed\n",
            "/tmp/ipython-input-632925566.py:7: FutureWarning: YF.download() has changed argument auto_adjust default to True\n",
            "  stock_data = yf.download(symbol, period=period)\n"
          ]
        },
        {
          "output_type": "stream",
          "name": "stdout",
          "text": [
            "Downloaded data for CW\n",
            "Downloaded data for CYBR\n"
          ]
        },
        {
          "output_type": "stream",
          "name": "stderr",
          "text": [
            "\r[*********************100%***********************]  1 of 1 completed\n",
            "/tmp/ipython-input-632925566.py:7: FutureWarning: YF.download() has changed argument auto_adjust default to True\n",
            "  stock_data = yf.download(symbol, period=period)\n",
            "[*********************100%***********************]  1 of 1 completed\n",
            "/tmp/ipython-input-632925566.py:7: FutureWarning: YF.download() has changed argument auto_adjust default to True\n",
            "  stock_data = yf.download(symbol, period=period)\n"
          ]
        },
        {
          "output_type": "stream",
          "name": "stdout",
          "text": [
            "Downloaded data for DDOG\n",
            "Downloaded data for DELL\n"
          ]
        },
        {
          "output_type": "stream",
          "name": "stderr",
          "text": [
            "\r[*********************100%***********************]  1 of 1 completed\n",
            "/tmp/ipython-input-632925566.py:7: FutureWarning: YF.download() has changed argument auto_adjust default to True\n",
            "  stock_data = yf.download(symbol, period=period)\n",
            "[*********************100%***********************]  1 of 1 completed\n",
            "/tmp/ipython-input-632925566.py:7: FutureWarning: YF.download() has changed argument auto_adjust default to True\n",
            "  stock_data = yf.download(symbol, period=period)\n"
          ]
        },
        {
          "output_type": "stream",
          "name": "stdout",
          "text": [
            "Downloaded data for DOCS\n",
            "Downloaded data for DOCU\n"
          ]
        },
        {
          "output_type": "stream",
          "name": "stderr",
          "text": [
            "\r[*********************100%***********************]  1 of 1 completed\n",
            "/tmp/ipython-input-632925566.py:7: FutureWarning: YF.download() has changed argument auto_adjust default to True\n",
            "  stock_data = yf.download(symbol, period=period)\n",
            "[*********************100%***********************]  1 of 1 completed\n"
          ]
        },
        {
          "output_type": "stream",
          "name": "stdout",
          "text": [
            "Downloaded data for DT\n",
            "Downloaded data for DUOL\n"
          ]
        },
        {
          "output_type": "stream",
          "name": "stderr",
          "text": [
            "/tmp/ipython-input-632925566.py:7: FutureWarning: YF.download() has changed argument auto_adjust default to True\n",
            "  stock_data = yf.download(symbol, period=period)\n",
            "\r[*********************100%***********************]  1 of 1 completed\n",
            "/tmp/ipython-input-632925566.py:7: FutureWarning: YF.download() has changed argument auto_adjust default to True\n",
            "  stock_data = yf.download(symbol, period=period)\n"
          ]
        },
        {
          "output_type": "stream",
          "name": "stdout",
          "text": [
            "Downloaded data for EA\n"
          ]
        },
        {
          "output_type": "stream",
          "name": "stderr",
          "text": [
            "\r[*********************100%***********************]  1 of 1 completed\n",
            "/tmp/ipython-input-632925566.py:7: FutureWarning: YF.download() has changed argument auto_adjust default to True\n",
            "  stock_data = yf.download(symbol, period=period)\n"
          ]
        },
        {
          "output_type": "stream",
          "name": "stdout",
          "text": [
            "Downloaded data for EMR\n"
          ]
        },
        {
          "output_type": "stream",
          "name": "stderr",
          "text": [
            "\r[*********************100%***********************]  1 of 1 completed\n",
            "/tmp/ipython-input-632925566.py:7: FutureWarning: YF.download() has changed argument auto_adjust default to True\n",
            "  stock_data = yf.download(symbol, period=period)\n"
          ]
        },
        {
          "output_type": "stream",
          "name": "stdout",
          "text": [
            "Downloaded data for ERIC\n"
          ]
        },
        {
          "output_type": "stream",
          "name": "stderr",
          "text": [
            "\r[*********************100%***********************]  1 of 1 completed\n",
            "/tmp/ipython-input-632925566.py:7: FutureWarning: YF.download() has changed argument auto_adjust default to True\n",
            "  stock_data = yf.download(symbol, period=period)\n"
          ]
        },
        {
          "output_type": "stream",
          "name": "stdout",
          "text": [
            "Downloaded data for ETN\n"
          ]
        },
        {
          "output_type": "stream",
          "name": "stderr",
          "text": [
            "[*********************100%***********************]  1 of 1 completed\n",
            "/tmp/ipython-input-632925566.py:7: FutureWarning: YF.download() has changed argument auto_adjust default to True\n",
            "  stock_data = yf.download(symbol, period=period)\n",
            "[*********************100%***********************]  1 of 1 completed\n",
            "/tmp/ipython-input-632925566.py:7: FutureWarning: YF.download() has changed argument auto_adjust default to True\n",
            "  stock_data = yf.download(symbol, period=period)\n"
          ]
        },
        {
          "output_type": "stream",
          "name": "stdout",
          "text": [
            "Downloaded data for FDS\n",
            "Downloaded data for FLEX\n"
          ]
        },
        {
          "output_type": "stream",
          "name": "stderr",
          "text": [
            "[*********************100%***********************]  1 of 1 completed\n",
            "/tmp/ipython-input-632925566.py:7: FutureWarning: YF.download() has changed argument auto_adjust default to True\n",
            "  stock_data = yf.download(symbol, period=period)\n",
            "[*********************100%***********************]  1 of 1 completed\n",
            "/tmp/ipython-input-632925566.py:7: FutureWarning: YF.download() has changed argument auto_adjust default to True\n",
            "  stock_data = yf.download(symbol, period=period)\n"
          ]
        },
        {
          "output_type": "stream",
          "name": "stdout",
          "text": [
            "Downloaded data for FLUT\n",
            "Downloaded data for FSLR\n"
          ]
        },
        {
          "output_type": "stream",
          "name": "stderr",
          "text": [
            "\r[*********************100%***********************]  1 of 1 completed\n",
            "/tmp/ipython-input-632925566.py:7: FutureWarning: YF.download() has changed argument auto_adjust default to True\n",
            "  stock_data = yf.download(symbol, period=period)\n",
            "[*********************100%***********************]  1 of 1 completed\n",
            "/tmp/ipython-input-632925566.py:7: FutureWarning: YF.download() has changed argument auto_adjust default to True\n",
            "  stock_data = yf.download(symbol, period=period)\n"
          ]
        },
        {
          "output_type": "stream",
          "name": "stdout",
          "text": [
            "Downloaded data for FTNT\n",
            "Downloaded data for GDDY\n"
          ]
        },
        {
          "output_type": "stream",
          "name": "stderr",
          "text": [
            "\r[*********************100%***********************]  1 of 1 completed\n",
            "/tmp/ipython-input-632925566.py:7: FutureWarning: YF.download() has changed argument auto_adjust default to True\n",
            "  stock_data = yf.download(symbol, period=period)\n"
          ]
        },
        {
          "output_type": "stream",
          "name": "stdout",
          "text": [
            "Downloaded data for GE\n"
          ]
        },
        {
          "output_type": "stream",
          "name": "stderr",
          "text": [
            "[*********************100%***********************]  1 of 1 completed\n",
            "/tmp/ipython-input-632925566.py:7: FutureWarning: YF.download() has changed argument auto_adjust default to True\n",
            "  stock_data = yf.download(symbol, period=period)\n",
            "[*********************100%***********************]  1 of 1 completed\n",
            "/tmp/ipython-input-632925566.py:7: FutureWarning: YF.download() has changed argument auto_adjust default to True\n",
            "  stock_data = yf.download(symbol, period=period)\n"
          ]
        },
        {
          "output_type": "stream",
          "name": "stdout",
          "text": [
            "Downloaded data for GEN\n",
            "Downloaded data for GFS\n"
          ]
        },
        {
          "output_type": "stream",
          "name": "stderr",
          "text": [
            "\r[*********************100%***********************]  1 of 1 completed\n",
            "/tmp/ipython-input-632925566.py:7: FutureWarning: YF.download() has changed argument auto_adjust default to True\n",
            "  stock_data = yf.download(symbol, period=period)\n",
            "[*********************100%***********************]  1 of 1 completed\n",
            "/tmp/ipython-input-632925566.py:7: FutureWarning: YF.download() has changed argument auto_adjust default to True\n",
            "  stock_data = yf.download(symbol, period=period)\n"
          ]
        },
        {
          "output_type": "stream",
          "name": "stdout",
          "text": [
            "Downloaded data for GOOG\n",
            "Downloaded data for GOOGL\n"
          ]
        },
        {
          "output_type": "stream",
          "name": "stderr",
          "text": [
            "\r[*********************100%***********************]  1 of 1 completed\n",
            "/tmp/ipython-input-632925566.py:7: FutureWarning: YF.download() has changed argument auto_adjust default to True\n",
            "  stock_data = yf.download(symbol, period=period)\n",
            "[*********************100%***********************]  1 of 1 completed\n",
            "/tmp/ipython-input-632925566.py:7: FutureWarning: YF.download() has changed argument auto_adjust default to True\n",
            "  stock_data = yf.download(symbol, period=period)\n"
          ]
        },
        {
          "output_type": "stream",
          "name": "stdout",
          "text": [
            "Downloaded data for GWRE\n",
            "Downloaded data for HPE\n"
          ]
        },
        {
          "output_type": "stream",
          "name": "stderr",
          "text": [
            "\r[*********************100%***********************]  1 of 1 completed\n",
            "/tmp/ipython-input-632925566.py:7: FutureWarning: YF.download() has changed argument auto_adjust default to True\n",
            "  stock_data = yf.download(symbol, period=period)\n"
          ]
        },
        {
          "output_type": "stream",
          "name": "stdout",
          "text": [
            "Downloaded data for HPQ\n"
          ]
        },
        {
          "output_type": "stream",
          "name": "stderr",
          "text": [
            "[*********************100%***********************]  1 of 1 completed\n",
            "/tmp/ipython-input-632925566.py:7: FutureWarning: YF.download() has changed argument auto_adjust default to True\n",
            "  stock_data = yf.download(symbol, period=period)\n",
            "[*********************100%***********************]  1 of 1 completed\n",
            "/tmp/ipython-input-632925566.py:7: FutureWarning: YF.download() has changed argument auto_adjust default to True\n",
            "  stock_data = yf.download(symbol, period=period)\n"
          ]
        },
        {
          "output_type": "stream",
          "name": "stdout",
          "text": [
            "Downloaded data for HUBB\n",
            "Downloaded data for HUBS\n"
          ]
        },
        {
          "output_type": "stream",
          "name": "stderr",
          "text": [
            "\r[*********************100%***********************]  1 of 1 completed\n",
            "/tmp/ipython-input-632925566.py:7: FutureWarning: YF.download() has changed argument auto_adjust default to True\n",
            "  stock_data = yf.download(symbol, period=period)\n"
          ]
        },
        {
          "output_type": "stream",
          "name": "stdout",
          "text": [
            "Downloaded data for IBM\n"
          ]
        },
        {
          "output_type": "stream",
          "name": "stderr",
          "text": [
            "\r[*********************100%***********************]  1 of 1 completed\n",
            "/tmp/ipython-input-632925566.py:7: FutureWarning: YF.download() has changed argument auto_adjust default to True\n",
            "  stock_data = yf.download(symbol, period=period)\n"
          ]
        },
        {
          "output_type": "stream",
          "name": "stdout",
          "text": [
            "Downloaded data for INFY\n"
          ]
        },
        {
          "output_type": "stream",
          "name": "stderr",
          "text": [
            "\r[*********************100%***********************]  1 of 1 completed\n",
            "/tmp/ipython-input-632925566.py:7: FutureWarning: YF.download() has changed argument auto_adjust default to True\n",
            "  stock_data = yf.download(symbol, period=period)\n"
          ]
        },
        {
          "output_type": "stream",
          "name": "stdout",
          "text": [
            "Downloaded data for INTC\n"
          ]
        },
        {
          "output_type": "stream",
          "name": "stderr",
          "text": [
            "\r[*********************100%***********************]  1 of 1 completed\n",
            "/tmp/ipython-input-632925566.py:7: FutureWarning: YF.download() has changed argument auto_adjust default to True\n",
            "  stock_data = yf.download(symbol, period=period)\n"
          ]
        },
        {
          "output_type": "stream",
          "name": "stdout",
          "text": [
            "Downloaded data for INTU\n"
          ]
        },
        {
          "output_type": "stream",
          "name": "stderr",
          "text": [
            "\r[*********************100%***********************]  1 of 1 completed\n",
            "/tmp/ipython-input-632925566.py:7: FutureWarning: YF.download() has changed argument auto_adjust default to True\n",
            "  stock_data = yf.download(symbol, period=period)\n"
          ]
        },
        {
          "output_type": "stream",
          "name": "stdout",
          "text": [
            "Downloaded data for IOT\n"
          ]
        },
        {
          "output_type": "stream",
          "name": "stderr",
          "text": [
            "\r[*********************100%***********************]  1 of 1 completed\n",
            "/tmp/ipython-input-632925566.py:7: FutureWarning: YF.download() has changed argument auto_adjust default to True\n",
            "  stock_data = yf.download(symbol, period=period)\n"
          ]
        },
        {
          "output_type": "stream",
          "name": "stdout",
          "text": [
            "Downloaded data for JBL\n"
          ]
        },
        {
          "output_type": "stream",
          "name": "stderr",
          "text": [
            "\r[*********************100%***********************]  1 of 1 completed\n",
            "/tmp/ipython-input-632925566.py:7: FutureWarning: YF.download() has changed argument auto_adjust default to True\n",
            "  stock_data = yf.download(symbol, period=period)\n"
          ]
        },
        {
          "output_type": "stream",
          "name": "stdout",
          "text": [
            "Downloaded data for JKHY\n"
          ]
        },
        {
          "output_type": "stream",
          "name": "stderr",
          "text": [
            "\r[*********************100%***********************]  1 of 1 completed\n",
            "/tmp/ipython-input-632925566.py:7: FutureWarning: YF.download() has changed argument auto_adjust default to True\n",
            "  stock_data = yf.download(symbol, period=period)\n"
          ]
        },
        {
          "output_type": "stream",
          "name": "stdout",
          "text": [
            "Downloaded data for KLAC\n"
          ]
        },
        {
          "output_type": "stream",
          "name": "stderr",
          "text": [
            "\r[*********************100%***********************]  1 of 1 completed\n",
            "/tmp/ipython-input-632925566.py:7: FutureWarning: YF.download() has changed argument auto_adjust default to True\n",
            "  stock_data = yf.download(symbol, period=period)\n"
          ]
        },
        {
          "output_type": "stream",
          "name": "stdout",
          "text": [
            "Downloaded data for LDOS\n"
          ]
        },
        {
          "output_type": "stream",
          "name": "stderr",
          "text": [
            "\r[*********************100%***********************]  1 of 1 completed\n",
            "/tmp/ipython-input-632925566.py:7: FutureWarning: YF.download() has changed argument auto_adjust default to True\n",
            "  stock_data = yf.download(symbol, period=period)\n"
          ]
        },
        {
          "output_type": "stream",
          "name": "stdout",
          "text": [
            "Downloaded data for LOGI\n"
          ]
        },
        {
          "output_type": "stream",
          "name": "stderr",
          "text": [
            "[*********************100%***********************]  1 of 1 completed\n",
            "/tmp/ipython-input-632925566.py:7: FutureWarning: YF.download() has changed argument auto_adjust default to True\n",
            "  stock_data = yf.download(symbol, period=period)\n",
            "[*********************100%***********************]  1 of 1 completed\n"
          ]
        },
        {
          "output_type": "stream",
          "name": "stdout",
          "text": [
            "Downloaded data for LRCX\n",
            "Downloaded data for MANH\n"
          ]
        },
        {
          "output_type": "stream",
          "name": "stderr",
          "text": [
            "/tmp/ipython-input-632925566.py:7: FutureWarning: YF.download() has changed argument auto_adjust default to True\n",
            "  stock_data = yf.download(symbol, period=period)\n",
            "[*********************100%***********************]  1 of 1 completed\n",
            "/tmp/ipython-input-632925566.py:7: FutureWarning: YF.download() has changed argument auto_adjust default to True\n",
            "  stock_data = yf.download(symbol, period=period)\n"
          ]
        },
        {
          "output_type": "stream",
          "name": "stdout",
          "text": [
            "Downloaded data for MBLY\n"
          ]
        },
        {
          "output_type": "stream",
          "name": "stderr",
          "text": [
            "\r[*********************100%***********************]  1 of 1 completed\n",
            "/tmp/ipython-input-632925566.py:7: FutureWarning: YF.download() has changed argument auto_adjust default to True\n",
            "  stock_data = yf.download(symbol, period=period)\n"
          ]
        },
        {
          "output_type": "stream",
          "name": "stdout",
          "text": [
            "Downloaded data for MCHP\n"
          ]
        },
        {
          "output_type": "stream",
          "name": "stderr",
          "text": [
            "[*********************100%***********************]  1 of 1 completed\n",
            "/tmp/ipython-input-632925566.py:7: FutureWarning: YF.download() has changed argument auto_adjust default to True\n",
            "  stock_data = yf.download(symbol, period=period)\n",
            "[*********************100%***********************]  1 of 1 completed\n",
            "/tmp/ipython-input-632925566.py:7: FutureWarning: YF.download() has changed argument auto_adjust default to True\n",
            "  stock_data = yf.download(symbol, period=period)\n"
          ]
        },
        {
          "output_type": "stream",
          "name": "stdout",
          "text": [
            "Downloaded data for MCHPP\n",
            "Downloaded data for MDB\n"
          ]
        },
        {
          "output_type": "stream",
          "name": "stderr",
          "text": [
            "[*********************100%***********************]  1 of 1 completed\n",
            "/tmp/ipython-input-632925566.py:7: FutureWarning: YF.download() has changed argument auto_adjust default to True\n",
            "  stock_data = yf.download(symbol, period=period)\n",
            "[*********************100%***********************]  1 of 1 completed\n",
            "/tmp/ipython-input-632925566.py:7: FutureWarning: YF.download() has changed argument auto_adjust default to True\n",
            "  stock_data = yf.download(symbol, period=period)\n"
          ]
        },
        {
          "output_type": "stream",
          "name": "stdout",
          "text": [
            "Downloaded data for META\n",
            "Downloaded data for MNDY\n"
          ]
        },
        {
          "output_type": "stream",
          "name": "stderr",
          "text": [
            "\r[*********************100%***********************]  1 of 1 completed\n",
            "/tmp/ipython-input-632925566.py:7: FutureWarning: YF.download() has changed argument auto_adjust default to True\n",
            "  stock_data = yf.download(symbol, period=period)\n",
            "[*********************100%***********************]  1 of 1 completed\n"
          ]
        },
        {
          "output_type": "stream",
          "name": "stdout",
          "text": [
            "Downloaded data for MPWR\n",
            "Downloaded data for MRVL\n"
          ]
        },
        {
          "output_type": "stream",
          "name": "stderr",
          "text": [
            "/tmp/ipython-input-632925566.py:7: FutureWarning: YF.download() has changed argument auto_adjust default to True\n",
            "  stock_data = yf.download(symbol, period=period)\n",
            "[*********************100%***********************]  1 of 1 completed\n",
            "/tmp/ipython-input-632925566.py:7: FutureWarning: YF.download() has changed argument auto_adjust default to True\n",
            "  stock_data = yf.download(symbol, period=period)\n"
          ]
        },
        {
          "output_type": "stream",
          "name": "stdout",
          "text": [
            "Downloaded data for MSFT\n"
          ]
        },
        {
          "output_type": "stream",
          "name": "stderr",
          "text": [
            "\r[*********************100%***********************]  1 of 1 completed\n",
            "/tmp/ipython-input-632925566.py:7: FutureWarning: YF.download() has changed argument auto_adjust default to True\n",
            "  stock_data = yf.download(symbol, period=period)\n"
          ]
        },
        {
          "output_type": "stream",
          "name": "stdout",
          "text": [
            "Downloaded data for MSI\n"
          ]
        },
        {
          "output_type": "stream",
          "name": "stderr",
          "text": [
            "\r[*********************100%***********************]  1 of 1 completed\n",
            "/tmp/ipython-input-632925566.py:7: FutureWarning: YF.download() has changed argument auto_adjust default to True\n",
            "  stock_data = yf.download(symbol, period=period)\n"
          ]
        },
        {
          "output_type": "stream",
          "name": "stdout",
          "text": [
            "Downloaded data for MSTR\n"
          ]
        },
        {
          "output_type": "stream",
          "name": "stderr",
          "text": [
            "\r[*********************100%***********************]  1 of 1 completed\n",
            "/tmp/ipython-input-632925566.py:7: FutureWarning: YF.download() has changed argument auto_adjust default to True\n",
            "  stock_data = yf.download(symbol, period=period)\n"
          ]
        },
        {
          "output_type": "stream",
          "name": "stdout",
          "text": [
            "Downloaded data for MU\n"
          ]
        },
        {
          "output_type": "stream",
          "name": "stderr",
          "text": [
            "\r[*********************100%***********************]  1 of 1 completed\n",
            "/tmp/ipython-input-632925566.py:7: FutureWarning: YF.download() has changed argument auto_adjust default to True\n",
            "  stock_data = yf.download(symbol, period=period)\n"
          ]
        },
        {
          "output_type": "stream",
          "name": "stdout",
          "text": [
            "Downloaded data for NEE\n"
          ]
        },
        {
          "output_type": "stream",
          "name": "stderr",
          "text": [
            "\r[*********************100%***********************]  1 of 1 completed\n",
            "/tmp/ipython-input-632925566.py:7: FutureWarning: YF.download() has changed argument auto_adjust default to True\n",
            "  stock_data = yf.download(symbol, period=period)\n"
          ]
        },
        {
          "output_type": "stream",
          "name": "stdout",
          "text": [
            "Downloaded data for NET\n"
          ]
        },
        {
          "output_type": "stream",
          "name": "stderr",
          "text": [
            "[*********************100%***********************]  1 of 1 completed\n",
            "/tmp/ipython-input-632925566.py:7: FutureWarning: YF.download() has changed argument auto_adjust default to True\n",
            "  stock_data = yf.download(symbol, period=period)\n",
            "[*********************100%***********************]  1 of 1 completed\n",
            "/tmp/ipython-input-632925566.py:7: FutureWarning: YF.download() has changed argument auto_adjust default to True\n",
            "  stock_data = yf.download(symbol, period=period)\n"
          ]
        },
        {
          "output_type": "stream",
          "name": "stdout",
          "text": [
            "Downloaded data for NOK\n",
            "Downloaded data for NOW\n"
          ]
        },
        {
          "output_type": "stream",
          "name": "stderr",
          "text": [
            "\r[*********************100%***********************]  1 of 1 completed\n",
            "/tmp/ipython-input-632925566.py:7: FutureWarning: YF.download() has changed argument auto_adjust default to True\n",
            "  stock_data = yf.download(symbol, period=period)\n"
          ]
        },
        {
          "output_type": "stream",
          "name": "stdout",
          "text": [
            "Downloaded data for NTAP\n"
          ]
        },
        {
          "output_type": "stream",
          "name": "stderr",
          "text": [
            "[*********************100%***********************]  1 of 1 completed\n",
            "/tmp/ipython-input-632925566.py:7: FutureWarning: YF.download() has changed argument auto_adjust default to True\n",
            "  stock_data = yf.download(symbol, period=period)\n",
            "[*********************100%***********************]  1 of 1 completed\n"
          ]
        },
        {
          "output_type": "stream",
          "name": "stdout",
          "text": [
            "Downloaded data for NTES\n",
            "Downloaded data for NTNX\n"
          ]
        },
        {
          "output_type": "stream",
          "name": "stderr",
          "text": [
            "/tmp/ipython-input-632925566.py:7: FutureWarning: YF.download() has changed argument auto_adjust default to True\n",
            "  stock_data = yf.download(symbol, period=period)\n",
            "[*********************100%***********************]  1 of 1 completed\n",
            "/tmp/ipython-input-632925566.py:7: FutureWarning: YF.download() has changed argument auto_adjust default to True\n",
            "  stock_data = yf.download(symbol, period=period)\n"
          ]
        },
        {
          "output_type": "stream",
          "name": "stdout",
          "text": [
            "Downloaded data for NVDA\n"
          ]
        },
        {
          "output_type": "stream",
          "name": "stderr",
          "text": [
            "[*********************100%***********************]  1 of 1 completed\n",
            "/tmp/ipython-input-632925566.py:7: FutureWarning: YF.download() has changed argument auto_adjust default to True\n",
            "  stock_data = yf.download(symbol, period=period)\n",
            "[*********************100%***********************]  1 of 1 completed\n",
            "/tmp/ipython-input-632925566.py:7: FutureWarning: YF.download() has changed argument auto_adjust default to True\n",
            "  stock_data = yf.download(symbol, period=period)\n"
          ]
        },
        {
          "output_type": "stream",
          "name": "stdout",
          "text": [
            "Downloaded data for NXPI\n",
            "Downloaded data for OKTA\n"
          ]
        },
        {
          "output_type": "stream",
          "name": "stderr",
          "text": [
            "\r[*********************100%***********************]  1 of 1 completed\n",
            "/tmp/ipython-input-632925566.py:7: FutureWarning: YF.download() has changed argument auto_adjust default to True\n",
            "  stock_data = yf.download(symbol, period=period)\n"
          ]
        },
        {
          "output_type": "stream",
          "name": "stdout",
          "text": [
            "Downloaded data for ON\n"
          ]
        },
        {
          "output_type": "stream",
          "name": "stderr",
          "text": [
            "\r[*********************100%***********************]  1 of 1 completed\n",
            "/tmp/ipython-input-632925566.py:7: FutureWarning: YF.download() has changed argument auto_adjust default to True\n",
            "  stock_data = yf.download(symbol, period=period)\n"
          ]
        },
        {
          "output_type": "stream",
          "name": "stdout",
          "text": [
            "Downloaded data for ORCL\n"
          ]
        },
        {
          "output_type": "stream",
          "name": "stderr",
          "text": [
            "\r[*********************100%***********************]  1 of 1 completed\n",
            "/tmp/ipython-input-632925566.py:7: FutureWarning: YF.download() has changed argument auto_adjust default to True\n",
            "  stock_data = yf.download(symbol, period=period)\n"
          ]
        },
        {
          "output_type": "stream",
          "name": "stdout",
          "text": [
            "Downloaded data for OTIS\n"
          ]
        },
        {
          "output_type": "stream",
          "name": "stderr",
          "text": [
            "\r[*********************100%***********************]  1 of 1 completed\n",
            "/tmp/ipython-input-632925566.py:7: FutureWarning: YF.download() has changed argument auto_adjust default to True\n",
            "  stock_data = yf.download(symbol, period=period)\n"
          ]
        },
        {
          "output_type": "stream",
          "name": "stdout",
          "text": [
            "Downloaded data for PANW\n"
          ]
        },
        {
          "output_type": "stream",
          "name": "stderr",
          "text": [
            "[*********************100%***********************]  1 of 1 completed\n",
            "/tmp/ipython-input-632925566.py:7: FutureWarning: YF.download() has changed argument auto_adjust default to True\n",
            "  stock_data = yf.download(symbol, period=period)\n",
            "[*********************100%***********************]  1 of 1 completed\n",
            "/tmp/ipython-input-632925566.py:7: FutureWarning: YF.download() has changed argument auto_adjust default to True\n",
            "  stock_data = yf.download(symbol, period=period)\n"
          ]
        },
        {
          "output_type": "stream",
          "name": "stdout",
          "text": [
            "Downloaded data for PAYC\n",
            "Downloaded data for PCTY\n"
          ]
        },
        {
          "output_type": "stream",
          "name": "stderr",
          "text": [
            "\r[*********************100%***********************]  1 of 1 completed\n",
            "/tmp/ipython-input-632925566.py:7: FutureWarning: YF.download() has changed argument auto_adjust default to True\n",
            "  stock_data = yf.download(symbol, period=period)\n",
            "[*********************100%***********************]  1 of 1 completed\n"
          ]
        },
        {
          "output_type": "stream",
          "name": "stdout",
          "text": [
            "Downloaded data for PINS\n",
            "Downloaded data for PLTR\n"
          ]
        },
        {
          "output_type": "stream",
          "name": "stderr",
          "text": [
            "/tmp/ipython-input-632925566.py:7: FutureWarning: YF.download() has changed argument auto_adjust default to True\n",
            "  stock_data = yf.download(symbol, period=period)\n",
            "\r[*********************100%***********************]  1 of 1 completed\n",
            "/tmp/ipython-input-632925566.py:7: FutureWarning: YF.download() has changed argument auto_adjust default to True\n",
            "  stock_data = yf.download(symbol, period=period)\n",
            "[*********************100%***********************]  1 of 1 completed\n",
            "/tmp/ipython-input-632925566.py:7: FutureWarning: YF.download() has changed argument auto_adjust default to True\n",
            "  stock_data = yf.download(symbol, period=period)\n"
          ]
        },
        {
          "output_type": "stream",
          "name": "stdout",
          "text": [
            "Downloaded data for PSTG\n",
            "Downloaded data for PTC\n"
          ]
        },
        {
          "output_type": "stream",
          "name": "stderr",
          "text": [
            "[*********************100%***********************]  1 of 1 completed\n",
            "/tmp/ipython-input-632925566.py:7: FutureWarning: YF.download() has changed argument auto_adjust default to True\n",
            "  stock_data = yf.download(symbol, period=period)\n",
            "[*********************100%***********************]  1 of 1 completed\n",
            "/tmp/ipython-input-632925566.py:7: FutureWarning: YF.download() has changed argument auto_adjust default to True\n",
            "  stock_data = yf.download(symbol, period=period)\n"
          ]
        },
        {
          "output_type": "stream",
          "name": "stdout",
          "text": [
            "Downloaded data for QCOM\n",
            "Downloaded data for RBLX\n"
          ]
        },
        {
          "output_type": "stream",
          "name": "stderr",
          "text": [
            "\r[*********************100%***********************]  1 of 1 completed\n",
            "/tmp/ipython-input-632925566.py:7: FutureWarning: YF.download() has changed argument auto_adjust default to True\n",
            "  stock_data = yf.download(symbol, period=period)\n",
            "[*********************100%***********************]  1 of 1 completed\n",
            "/tmp/ipython-input-632925566.py:7: FutureWarning: YF.download() has changed argument auto_adjust default to True\n",
            "  stock_data = yf.download(symbol, period=period)\n"
          ]
        },
        {
          "output_type": "stream",
          "name": "stdout",
          "text": [
            "Downloaded data for RBRK\n",
            "Downloaded data for RDDT\n"
          ]
        },
        {
          "output_type": "stream",
          "name": "stderr",
          "text": [
            "\r[*********************100%***********************]  1 of 1 completed\n",
            "/tmp/ipython-input-632925566.py:7: FutureWarning: YF.download() has changed argument auto_adjust default to True\n",
            "  stock_data = yf.download(symbol, period=period)\n"
          ]
        },
        {
          "output_type": "stream",
          "name": "stdout",
          "text": [
            "Downloaded data for SAP\n"
          ]
        },
        {
          "output_type": "stream",
          "name": "stderr",
          "text": [
            "[*********************100%***********************]  1 of 1 completed\n",
            "/tmp/ipython-input-632925566.py:7: FutureWarning: YF.download() has changed argument auto_adjust default to True\n",
            "  stock_data = yf.download(symbol, period=period)\n",
            "[*********************100%***********************]  1 of 1 completed\n"
          ]
        },
        {
          "output_type": "stream",
          "name": "stdout",
          "text": [
            "Downloaded data for SHOP\n",
            "Downloaded data for SMCI\n"
          ]
        },
        {
          "output_type": "stream",
          "name": "stderr",
          "text": [
            "/tmp/ipython-input-632925566.py:7: FutureWarning: YF.download() has changed argument auto_adjust default to True\n",
            "  stock_data = yf.download(symbol, period=period)\n",
            "\r[*********************100%***********************]  1 of 1 completed\n",
            "/tmp/ipython-input-632925566.py:7: FutureWarning: YF.download() has changed argument auto_adjust default to True\n",
            "  stock_data = yf.download(symbol, period=period)\n",
            "[*********************100%***********************]  1 of 1 completed\n",
            "/tmp/ipython-input-632925566.py:7: FutureWarning: YF.download() has changed argument auto_adjust default to True\n",
            "  stock_data = yf.download(symbol, period=period)\n"
          ]
        },
        {
          "output_type": "stream",
          "name": "stdout",
          "text": [
            "Downloaded data for SNAP\n",
            "Downloaded data for SNOW\n"
          ]
        },
        {
          "output_type": "stream",
          "name": "stderr",
          "text": [
            "\r[*********************100%***********************]  1 of 1 completed\n",
            "/tmp/ipython-input-632925566.py:7: FutureWarning: YF.download() has changed argument auto_adjust default to True\n",
            "  stock_data = yf.download(symbol, period=period)\n"
          ]
        },
        {
          "output_type": "stream",
          "name": "stdout",
          "text": [
            "Downloaded data for SNPS\n"
          ]
        },
        {
          "output_type": "stream",
          "name": "stderr",
          "text": [
            "\r[*********************100%***********************]  1 of 1 completed\n",
            "/tmp/ipython-input-632925566.py:7: FutureWarning: YF.download() has changed argument auto_adjust default to True\n",
            "  stock_data = yf.download(symbol, period=period)\n"
          ]
        },
        {
          "output_type": "stream",
          "name": "stdout",
          "text": [
            "Downloaded data for SSNC\n"
          ]
        },
        {
          "output_type": "stream",
          "name": "stderr",
          "text": [
            "[*********************100%***********************]  1 of 1 completed\n",
            "/tmp/ipython-input-632925566.py:7: FutureWarning: YF.download() has changed argument auto_adjust default to True\n",
            "  stock_data = yf.download(symbol, period=period)\n",
            "[*********************100%***********************]  1 of 1 completed\n",
            "/tmp/ipython-input-632925566.py:7: FutureWarning: YF.download() has changed argument auto_adjust default to True\n",
            "  stock_data = yf.download(symbol, period=period)\n"
          ]
        },
        {
          "output_type": "stream",
          "name": "stdout",
          "text": [
            "Downloaded data for STM\n",
            "Downloaded data for STRF\n"
          ]
        },
        {
          "output_type": "stream",
          "name": "stderr",
          "text": [
            "\r[*********************100%***********************]  1 of 1 completed\n",
            "/tmp/ipython-input-632925566.py:7: FutureWarning: YF.download() has changed argument auto_adjust default to True\n",
            "  stock_data = yf.download(symbol, period=period)\n"
          ]
        },
        {
          "output_type": "stream",
          "name": "stdout",
          "text": [
            "Downloaded data for STRK\n"
          ]
        },
        {
          "output_type": "stream",
          "name": "stderr",
          "text": [
            "[*********************100%***********************]  1 of 1 completed\n",
            "/tmp/ipython-input-632925566.py:7: FutureWarning: YF.download() has changed argument auto_adjust default to True\n",
            "  stock_data = yf.download(symbol, period=period)\n",
            "[*********************100%***********************]  1 of 1 completed\n"
          ]
        },
        {
          "output_type": "stream",
          "name": "stdout",
          "text": [
            "Downloaded data for STX\n",
            "Downloaded data for TEAM\n"
          ]
        },
        {
          "output_type": "stream",
          "name": "stderr",
          "text": [
            "/tmp/ipython-input-632925566.py:7: FutureWarning: YF.download() has changed argument auto_adjust default to True\n",
            "  stock_data = yf.download(symbol, period=period)\n",
            "[*********************100%***********************]  1 of 1 completed\n",
            "/tmp/ipython-input-632925566.py:7: FutureWarning: YF.download() has changed argument auto_adjust default to True\n",
            "  stock_data = yf.download(symbol, period=period)\n",
            "[*********************100%***********************]  1 of 1 completed\n"
          ]
        },
        {
          "output_type": "stream",
          "name": "stdout",
          "text": [
            "Downloaded data for TEL\n",
            "Downloaded data for TOST\n"
          ]
        },
        {
          "output_type": "stream",
          "name": "stderr",
          "text": [
            "/tmp/ipython-input-632925566.py:7: FutureWarning: YF.download() has changed argument auto_adjust default to True\n",
            "  stock_data = yf.download(symbol, period=period)\n",
            "[*********************100%***********************]  1 of 1 completed\n",
            "/tmp/ipython-input-632925566.py:7: FutureWarning: YF.download() has changed argument auto_adjust default to True\n",
            "  stock_data = yf.download(symbol, period=period)\n",
            "[*********************100%***********************]  1 of 1 completed\n",
            "/tmp/ipython-input-632925566.py:7: FutureWarning: YF.download() has changed argument auto_adjust default to True\n",
            "  stock_data = yf.download(symbol, period=period)\n"
          ]
        },
        {
          "output_type": "stream",
          "name": "stdout",
          "text": [
            "Downloaded data for TSM\n",
            "Downloaded data for TTAN\n"
          ]
        },
        {
          "output_type": "stream",
          "name": "stderr",
          "text": [
            "[*********************100%***********************]  1 of 1 completed\n",
            "/tmp/ipython-input-632925566.py:7: FutureWarning: YF.download() has changed argument auto_adjust default to True\n",
            "  stock_data = yf.download(symbol, period=period)\n",
            "[*********************100%***********************]  1 of 1 completed\n"
          ]
        },
        {
          "output_type": "stream",
          "name": "stdout",
          "text": [
            "Downloaded data for TTD\n",
            "Downloaded data for TTWO\n"
          ]
        },
        {
          "output_type": "stream",
          "name": "stderr",
          "text": [
            "/tmp/ipython-input-632925566.py:7: FutureWarning: YF.download() has changed argument auto_adjust default to True\n",
            "  stock_data = yf.download(symbol, period=period)\n",
            "\r[*********************100%***********************]  1 of 1 completed\n",
            "/tmp/ipython-input-632925566.py:7: FutureWarning: YF.download() has changed argument auto_adjust default to True\n",
            "  stock_data = yf.download(symbol, period=period)\n"
          ]
        },
        {
          "output_type": "stream",
          "name": "stdout",
          "text": [
            "Downloaded data for TWLO\n"
          ]
        },
        {
          "output_type": "stream",
          "name": "stderr",
          "text": [
            "[*********************100%***********************]  1 of 1 completed\n",
            "/tmp/ipython-input-632925566.py:7: FutureWarning: YF.download() has changed argument auto_adjust default to True\n",
            "  stock_data = yf.download(symbol, period=period)\n",
            "[*********************100%***********************]  1 of 1 completed\n",
            "/tmp/ipython-input-632925566.py:7: FutureWarning: YF.download() has changed argument auto_adjust default to True\n",
            "  stock_data = yf.download(symbol, period=period)\n"
          ]
        },
        {
          "output_type": "stream",
          "name": "stdout",
          "text": [
            "Downloaded data for TXN\n",
            "Downloaded data for TYL\n"
          ]
        },
        {
          "output_type": "stream",
          "name": "stderr",
          "text": [
            "\r[*********************100%***********************]  1 of 1 completed\n",
            "/tmp/ipython-input-632925566.py:7: FutureWarning: YF.download() has changed argument auto_adjust default to True\n",
            "  stock_data = yf.download(symbol, period=period)\n"
          ]
        },
        {
          "output_type": "stream",
          "name": "stdout",
          "text": [
            "Downloaded data for UI\n"
          ]
        },
        {
          "output_type": "stream",
          "name": "stderr",
          "text": [
            "[*********************100%***********************]  1 of 1 completed\n",
            "/tmp/ipython-input-632925566.py:7: FutureWarning: YF.download() has changed argument auto_adjust default to True\n",
            "  stock_data = yf.download(symbol, period=period)\n",
            "[*********************100%***********************]  1 of 1 completed\n",
            "/tmp/ipython-input-632925566.py:7: FutureWarning: YF.download() has changed argument auto_adjust default to True\n",
            "  stock_data = yf.download(symbol, period=period)\n"
          ]
        },
        {
          "output_type": "stream",
          "name": "stdout",
          "text": [
            "Downloaded data for UMC\n",
            "Downloaded data for VEEV\n"
          ]
        },
        {
          "output_type": "stream",
          "name": "stderr",
          "text": [
            "\r[*********************100%***********************]  1 of 1 completed\n",
            "/tmp/ipython-input-632925566.py:7: FutureWarning: YF.download() has changed argument auto_adjust default to True\n",
            "  stock_data = yf.download(symbol, period=period)\n",
            "[*********************100%***********************]  1 of 1 completed\n"
          ]
        },
        {
          "output_type": "stream",
          "name": "stdout",
          "text": [
            "Downloaded data for VRSK\n",
            "Downloaded data for VRSN\n"
          ]
        },
        {
          "output_type": "stream",
          "name": "stderr",
          "text": [
            "/tmp/ipython-input-632925566.py:7: FutureWarning: YF.download() has changed argument auto_adjust default to True\n",
            "  stock_data = yf.download(symbol, period=period)\n",
            "[*********************100%***********************]  1 of 1 completed\n",
            "/tmp/ipython-input-632925566.py:7: FutureWarning: YF.download() has changed argument auto_adjust default to True\n",
            "  stock_data = yf.download(symbol, period=period)\n",
            "[*********************100%***********************]  1 of 1 completed\n",
            "/tmp/ipython-input-632925566.py:7: FutureWarning: YF.download() has changed argument auto_adjust default to True\n",
            "  stock_data = yf.download(symbol, period=period)\n"
          ]
        },
        {
          "output_type": "stream",
          "name": "stdout",
          "text": [
            "Downloaded data for VRT\n",
            "Downloaded data for WDAY\n"
          ]
        },
        {
          "output_type": "stream",
          "name": "stderr",
          "text": [
            "\r[*********************100%***********************]  1 of 1 completed\n",
            "/tmp/ipython-input-632925566.py:7: FutureWarning: YF.download() has changed argument auto_adjust default to True\n",
            "  stock_data = yf.download(symbol, period=period)\n"
          ]
        },
        {
          "output_type": "stream",
          "name": "stdout",
          "text": [
            "Downloaded data for WDC\n"
          ]
        },
        {
          "output_type": "stream",
          "name": "stderr",
          "text": [
            "[*********************100%***********************]  1 of 1 completed\n",
            "/tmp/ipython-input-632925566.py:7: FutureWarning: YF.download() has changed argument auto_adjust default to True\n",
            "  stock_data = yf.download(symbol, period=period)\n",
            "[*********************100%***********************]  1 of 1 completed\n",
            "/tmp/ipython-input-632925566.py:7: FutureWarning: YF.download() has changed argument auto_adjust default to True\n",
            "  stock_data = yf.download(symbol, period=period)\n"
          ]
        },
        {
          "output_type": "stream",
          "name": "stdout",
          "text": [
            "Downloaded data for WIT\n",
            "Downloaded data for XYZ\n"
          ]
        },
        {
          "output_type": "stream",
          "name": "stderr",
          "text": [
            "\r[*********************100%***********************]  1 of 1 completed\n",
            "/tmp/ipython-input-632925566.py:7: FutureWarning: YF.download() has changed argument auto_adjust default to True\n",
            "  stock_data = yf.download(symbol, period=period)\n",
            "[*********************100%***********************]  1 of 1 completed\n",
            "/tmp/ipython-input-632925566.py:7: FutureWarning: YF.download() has changed argument auto_adjust default to True\n",
            "  stock_data = yf.download(symbol, period=period)\n"
          ]
        },
        {
          "output_type": "stream",
          "name": "stdout",
          "text": [
            "Downloaded data for YMM\n",
            "Downloaded data for ZM\n"
          ]
        },
        {
          "output_type": "stream",
          "name": "stderr",
          "text": [
            "\r[*********************100%***********************]  1 of 1 completed\n"
          ]
        },
        {
          "output_type": "stream",
          "name": "stdout",
          "text": [
            "Downloaded data for ZS\n",
            "157662\n",
            "         Date  Close_pc  Close_pc_0  Close_pc_1  Close_pc_2  Close_pc_3  \\\n",
            "6  2020-08-11 -0.029740    0.014535   -0.022736    0.034889    0.003625   \n",
            "7  2020-08-12  0.033234   -0.029740    0.014535   -0.022736    0.034889   \n",
            "8  2020-08-13  0.017698    0.033234   -0.029740    0.014535   -0.022736   \n",
            "9  2020-08-14 -0.000891    0.017698    0.033234   -0.029740    0.014535   \n",
            "10 2020-08-17 -0.002611   -0.000891    0.017698    0.033234   -0.029740   \n",
            "11 2020-08-18  0.008333   -0.002611   -0.000891    0.017698    0.033234   \n",
            "12 2020-08-19  0.001255    0.008333   -0.002611   -0.000891    0.017698   \n",
            "13 2020-08-20  0.022190    0.001255    0.008333   -0.002611   -0.000891   \n",
            "14 2020-08-21  0.051532    0.022190    0.001255    0.008333   -0.002611   \n",
            "15 2020-08-24  0.011960    0.051532    0.022190    0.001255    0.008333   \n",
            "\n",
            "    Close_pc_4 Movement_Class  \n",
            "6     0.006678       Negative  \n",
            "7     0.003625       Positive  \n",
            "8     0.034889       Positive  \n",
            "9    -0.022736       Negative  \n",
            "10    0.014535       Negative  \n",
            "11   -0.029740       Positive  \n",
            "12    0.033234       Positive  \n",
            "13    0.017698       Positive  \n",
            "14   -0.000891       Positive  \n",
            "15   -0.002611       Positive  \n"
          ]
        }
      ]
    },
    {
      "cell_type": "code",
      "source": [
        "all_data.shape\n",
        "print('Negative points: ',(all_data.Movement_Class=='Negative').sum())\n",
        "print('Positive points: ',(all_data.Movement_Class=='Positive').sum())"
      ],
      "metadata": {
        "colab": {
          "base_uri": "https://localhost:8080/"
        },
        "id": "0DEZ_ufnaJ97",
        "outputId": "51e00131-dfb3-4cdf-f804-5322077e3a66"
      },
      "execution_count": 10,
      "outputs": [
        {
          "output_type": "stream",
          "name": "stdout",
          "text": [
            "Negative points:  76101\n",
            "Positive points:  81561\n"
          ]
        }
      ]
    },
    {
      "cell_type": "code",
      "source": [
        "all_data.to_csv('techStockPrices.csv', index=False)"
      ],
      "metadata": {
        "id": "PGR2RbSIbKHP"
      },
      "execution_count": 11,
      "outputs": []
    }
  ]
}